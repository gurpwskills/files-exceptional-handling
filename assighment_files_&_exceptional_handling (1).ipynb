{
  "nbformat": 4,
  "nbformat_minor": 0,
  "metadata": {
    "colab": {
      "provenance": []
    },
    "kernelspec": {
      "name": "python3",
      "display_name": "Python 3"
    },
    "language_info": {
      "name": "python"
    }
  },
  "cells": [
    {
      "cell_type": "markdown",
      "source": [
        "Files and exceptional handling assighment."
      ],
      "metadata": {
        "id": "dDZwzaThYkls"
      }
    },
    {
      "cell_type": "markdown",
      "source": [
        "Theoretical questions.        \n",
        "1. what is the difference between interpreted and compiled languages?    \n",
        ": interpreted languages (e.g.,python) execute code line-by-line with an interpreter ,offering flexibility and easier debugging but slower performance. compiled languages (e.g.,C) translate code into machine code beforehand, creating execution but requiring a compilation step.\n",
        "2. what is exceptional handling in python?    \n",
        ": exceptional handling in python manages errors (e.g., division by zero) using try, except, else, and finally blocks to prevent program crashes and handle issues gracefully.\n",
        "3. what is the purpose of the finally block exception handling?    \n",
        ": the finally block excutes code (e.g., resourse cleanup) regardless of whether an exception occurs, ensuring proper closure of files or connections.\n",
        "4. what is loggin in python?    \n",
        ": logging in python is a method to record events (e.g., errors, info) using the logging module, providing a structured way to track program behavior.\n",
        "5. what is the significance of the del method in python?     \n",
        ": the__del__methods is a destructor called when an object is about to be destroyed, useful for cleanup (e.g., closing files), though its use is less common due to garbage collection.\n",
        "6. what is the difference between import and from ...import in python?     \n",
        ": import brings an entire module (e.g., import math), while from ... import imports specific items (e.g., from math import pi), affecting namespace and code readability.\n",
        "7. how can you handle multiple exceptions in python?      \n",
        ": multiple exceptions are handled using multiple except clauses (e.g., except ValueError:) or a tuple of exceptions (e.g., except (ValueError, TypeError):) in a try block.\n",
        "8. whta is the purpose of the with statement when handling files in python?    \n",
        ": teh with statement ensures files are properly opened and closed automatically, reducing teh risk of resourse leaks, even if errors occur.\n",
        "9. what is the difference between multithreading and multiprocessing?      \n",
        ": multithreading runs multiple threads within one process (shared memory, lighter), while multiprocessing uses separate processes (isolated memory, heavier), suited for CPU-bound tasks.\n",
        "10. what are the advantages of using logging in a program?      \n",
        ": logging provides detailed error tracking, performance monitoring, and debugging support, with configurable levels (e.g., debug, error), unlike simple print statements.\n",
        "11. what is memory management in python?      \n",
        ": memory management in python automates allocation and deallocation of memory using a private heap, managed by the python memory manager, with garbage collection for unused objects.\n",
        "12. what are the basic steps involed in exception handling in python?      \n",
        ": the basic steps are: use a try block to enclose code that might raise an exception, except to handle specific errors, else for code if no exceptional occurs, and finally for cleanup.\n",
        "13. why is memory management important in python?     \n",
        ": memory management is crucial to prevent leaks, optimize performance, and ensure efficient resourse use, especially in large applications or with limited memory.\n",
        "14. what is the role of try and except in exception handling?     \n",
        ": try tests a block of code for errors, while except defines how to handle specific exceptions, allowing the program to continue or fail gracefully.\n",
        "15. how does python's garbage collection system work?     \n",
        ": python's garbage collector reclaims memory by identifying and freeing obects with no references (using reference counting) and handling cyclic references with a cyclic garbage collector.\n",
        "16. what are the common logging levels in python?     \n",
        ": common logging levels are DEBUG, INFO, WARNING, ERROR, and CRITICAL, defined in the logging module for different severity of messages.\n",
        "17. what are the common logging levels in python?     \n",
        ": same as 16th answer (repeated question).\n",
        "18. what are the difference between os.fork() and multiprocessing in python?     \n",
        ": os.fork() creates a new process by duplicating the current one (Unix-specific), while multiprocessing provides a portable, higher-level API for process creation and management.\n",
        "19. what is the importance of closing a file in python?\n",
        ": closing a file with close() or with ensures resources are freed, prevents data corruption, and avoids file handle exhaustion.\n",
        "20. what are the difference between file.read() and file.readline() in python?     \n",
        ": file.read() reads the entire file content, while fine.readline() reads one line at a time, useful for processing large files incrementally.\n",
        "21. what is the logging module in python used for?     \n",
        ": the logging module is used to log events (e.g., errors, debug info) with configurable levels and outputs (e.g., file, console) for debugging and monitoring.\n",
        "22. what is the os module in python used for in file handling?    \n",
        ": the os module provides functions (e.g., os.remove, os.rename) to interact with the operating system, facilitating file and derectory operations.\n",
        "23. what are the challenges associated with memory mangement in python?     \n",
        ": challenges include memory leaks from circular references, unpredictable garbage collection timing, and high memory usage with large data structures.\n",
        "24. how do you raise an exception manually in python?      \n",
        ": you raise an exception manually using the raise keyword, e.g., raise ValueError(\"Invalid input\"), to trigger custom error handling.\n",
        "25. why is it important to use multithreading in certain applications?      \n",
        ": multithreading is important for |/ O-bound tasks (e.g., network requests) to improve responsiveness and efficiency, though it's limited by the global interpreter Lock(GIL) in CPython."
      ],
      "metadata": {
        "id": "AuGgVvQBY7cK"
      }
    },
    {
      "cell_type": "markdown",
      "source": [
        "Practical questions."
      ],
      "metadata": {
        "id": "IrcNfkGIFhDP"
      }
    },
    {
      "cell_type": "markdown",
      "source": [
        "1. how can you open a file for writing in python and write a string to it?      \n",
        ": in the code section."
      ],
      "metadata": {
        "id": "D0DVM29DHLsY"
      }
    },
    {
      "cell_type": "code",
      "source": [
        "('file.txt', 'w')\n",
        "('hello, world!')"
      ],
      "metadata": {
        "colab": {
          "base_uri": "https://localhost:8080/",
          "height": 35
        },
        "id": "_GdYsD1PHp3u",
        "outputId": "79d2cf34-7570-491c-b889-5f9f44cfcfcb"
      },
      "execution_count": 2,
      "outputs": [
        {
          "output_type": "execute_result",
          "data": {
            "text/plain": [
              "'hello, world!'"
            ],
            "application/vnd.google.colaboratory.intrinsic+json": {
              "type": "string"
            }
          },
          "metadata": {},
          "execution_count": 2
        }
      ]
    },
    {
      "cell_type": "markdown",
      "source": [
        "2. write a python program to read the contents of a file and print each file.    \n",
        ": in the code section."
      ],
      "metadata": {
        "id": "oor-4Ll1IXUl"
      }
    },
    {
      "source": [
        "def read_and_print_file(file_path):\n",
        "    \"\"\"Reads the contents of a file and prints each line.\n",
        "\n",
        "    Args:\n",
        "        file_path: The path to the file to read.\n",
        "    \"\"\"\n",
        "    try:\n",
        "        with open(file_path, 'r') as file:\n",
        "            for line in file:\n",
        "                print(line, end='')  # Print each line without an extra newline\n",
        "    except FileNotFoundError:\n",
        "        print(f\"Error: File not found at path: {file_path}\")\n",
        "    except Exception as e:\n",
        "        print(f\"An error occurred: {e}\")\n",
        "\n",
        "# Example usage:\n",
        "file_path = 'my_file.txt'  # Replace with your file path\n",
        "read_and_print_file(file_path)"
      ],
      "cell_type": "code",
      "metadata": {
        "colab": {
          "base_uri": "https://localhost:8080/"
        },
        "id": "ZOxZ14aQMdhC",
        "outputId": "8f7bbd1d-b5c1-4a57-aaa1-010b6db5bcaf"
      },
      "execution_count": 10,
      "outputs": [
        {
          "output_type": "stream",
          "name": "stdout",
          "text": [
            "Error: File not found at path: my_file.txt\n"
          ]
        }
      ]
    },
    {
      "cell_type": "markdown",
      "source": [
        "3. how would you handle a case where the file doesn't exist while trying to open it for reading ?use a Try-except block:     \n",
        ": in the code section."
      ],
      "metadata": {
        "id": "akpWQGkZMhrO"
      }
    },
    {
      "cell_type": "code",
      "source": [
        "try:\n",
        "   with open('file.txt', 'r') as file:\n",
        "        content = file.read()\n",
        "except FileNotFoundError:\n",
        "    print(\"File not found\")"
      ],
      "metadata": {
        "colab": {
          "base_uri": "https://localhost:8080/"
        },
        "id": "Y3VY1ncBM9W0",
        "outputId": "b6e2ca78-f961-4351-cb86-c9973023c183"
      },
      "execution_count": 15,
      "outputs": [
        {
          "output_type": "stream",
          "name": "stdout",
          "text": [
            "File not found\n"
          ]
        }
      ]
    },
    {
      "cell_type": "markdown",
      "source": [
        "4: write a python script that reads from one file and writes its content to another file.      \n",
        ": in the code section."
      ],
      "metadata": {
        "id": "mz3Cz345Oq3p"
      }
    },
    {
      "cell_type": "code",
      "source": [
        "with open('source.txt', 'w') as source_file:\n",
        "    source_file.write(\"Hello, World!\")"
      ],
      "metadata": {
        "id": "L6Kwd6Qul5Ql"
      },
      "execution_count": 9,
      "outputs": []
    },
    {
      "cell_type": "markdown",
      "source": [
        "5. how would you catch and handle division by zero error in python?     \n",
        ": in the code section."
      ],
      "metadata": {
        "id": "k4MT-QAaqc4b"
      }
    },
    {
      "cell_type": "code",
      "source": [
        "try:\n",
        "    result = 10 / 0\n",
        "except ZeroDivisionError:\n",
        "    print(\"Cannot divide by zero.\")"
      ],
      "metadata": {
        "colab": {
          "base_uri": "https://localhost:8080/"
        },
        "id": "6S9Jxk4Nq2j6",
        "outputId": "c1b72aef-911a-452b-ece6-5036886602cb"
      },
      "execution_count": 10,
      "outputs": [
        {
          "output_type": "stream",
          "name": "stdout",
          "text": [
            "Cannot divide by zero.\n"
          ]
        }
      ]
    },
    {
      "cell_type": "markdown",
      "source": [
        "6. write a python program that logs an error message to a log file when a division by zero exception occur.     \n",
        ": in the code section."
      ],
      "metadata": {
        "id": "ZBTz59xDr3MG"
      }
    },
    {
      "cell_type": "code",
      "source": [
        "import logging\n",
        "logging.basicconfig(filename='app.log', level=logging.ERROR)\n",
        "try:\n",
        "    result = 10 / 0\n",
        "except ZeroDivisionError:\n",
        "    logging.error(\"Division by zero occurred.\")"
      ],
      "metadata": {
        "colab": {
          "base_uri": "https://localhost:8080/",
          "height": 211
        },
        "id": "w7bYWcWTsgue",
        "outputId": "deef6b3a-6ba5-4995-889a-68c1eb9ccefb"
      },
      "execution_count": 14,
      "outputs": [
        {
          "output_type": "error",
          "ename": "AttributeError",
          "evalue": "module 'logging' has no attribute 'basicconfig'",
          "traceback": [
            "\u001b[0;31m---------------------------------------------------------------------------\u001b[0m",
            "\u001b[0;31mAttributeError\u001b[0m                            Traceback (most recent call last)",
            "\u001b[0;32m<ipython-input-14-aea8cd90d308>\u001b[0m in \u001b[0;36m<cell line: 0>\u001b[0;34m()\u001b[0m\n\u001b[1;32m      1\u001b[0m \u001b[0;32mimport\u001b[0m \u001b[0mlogging\u001b[0m\u001b[0;34m\u001b[0m\u001b[0;34m\u001b[0m\u001b[0m\n\u001b[0;32m----> 2\u001b[0;31m \u001b[0mlogging\u001b[0m\u001b[0;34m.\u001b[0m\u001b[0mbasicconfig\u001b[0m\u001b[0;34m(\u001b[0m\u001b[0mfilename\u001b[0m\u001b[0;34m=\u001b[0m\u001b[0;34m'app.log'\u001b[0m\u001b[0;34m,\u001b[0m \u001b[0mlevel\u001b[0m\u001b[0;34m=\u001b[0m\u001b[0mlogging\u001b[0m\u001b[0;34m.\u001b[0m\u001b[0mERROR\u001b[0m\u001b[0;34m)\u001b[0m\u001b[0;34m\u001b[0m\u001b[0;34m\u001b[0m\u001b[0m\n\u001b[0m\u001b[1;32m      3\u001b[0m \u001b[0;32mtry\u001b[0m\u001b[0;34m:\u001b[0m\u001b[0;34m\u001b[0m\u001b[0;34m\u001b[0m\u001b[0m\n\u001b[1;32m      4\u001b[0m     \u001b[0mresult\u001b[0m \u001b[0;34m=\u001b[0m \u001b[0;36m10\u001b[0m \u001b[0;34m/\u001b[0m \u001b[0;36m0\u001b[0m\u001b[0;34m\u001b[0m\u001b[0;34m\u001b[0m\u001b[0m\n\u001b[1;32m      5\u001b[0m \u001b[0;32mexcept\u001b[0m \u001b[0mZeroDivisionError\u001b[0m\u001b[0;34m:\u001b[0m\u001b[0;34m\u001b[0m\u001b[0;34m\u001b[0m\u001b[0m\n",
            "\u001b[0;31mAttributeError\u001b[0m: module 'logging' has no attribute 'basicconfig'"
          ]
        }
      ]
    },
    {
      "cell_type": "markdown",
      "source": [
        "7. how do youl log information at diffrent levels (INFO, ERROR, WARNING) in python using the logging module? use different logging methods:     \n",
        ": in the code section."
      ],
      "metadata": {
        "id": "w-LUBM7Ougvo"
      }
    },
    {
      "cell_type": "code",
      "source": [
        "import logging\n",
        "logging.basicconfig(level=logging.INFO)\n",
        "logging.info(\"Info message\")\n",
        "logging.warning(\"Warning message\")\n",
        "logging.error(\"Error message\")"
      ],
      "metadata": {
        "colab": {
          "base_uri": "https://localhost:8080/",
          "height": 211
        },
        "id": "2Tfxtc00vK9e",
        "outputId": "0095709c-f14b-4a93-87a3-42c1fb21b607"
      },
      "execution_count": 16,
      "outputs": [
        {
          "output_type": "error",
          "ename": "AttributeError",
          "evalue": "module 'logging' has no attribute 'basicconfig'",
          "traceback": [
            "\u001b[0;31m---------------------------------------------------------------------------\u001b[0m",
            "\u001b[0;31mAttributeError\u001b[0m                            Traceback (most recent call last)",
            "\u001b[0;32m<ipython-input-16-5272c9f78a15>\u001b[0m in \u001b[0;36m<cell line: 0>\u001b[0;34m()\u001b[0m\n\u001b[1;32m      1\u001b[0m \u001b[0;32mimport\u001b[0m \u001b[0mlogging\u001b[0m\u001b[0;34m\u001b[0m\u001b[0;34m\u001b[0m\u001b[0m\n\u001b[0;32m----> 2\u001b[0;31m \u001b[0mlogging\u001b[0m\u001b[0;34m.\u001b[0m\u001b[0mbasicconfig\u001b[0m\u001b[0;34m(\u001b[0m\u001b[0mlevel\u001b[0m\u001b[0;34m=\u001b[0m\u001b[0mlogging\u001b[0m\u001b[0;34m.\u001b[0m\u001b[0mINFO\u001b[0m\u001b[0;34m)\u001b[0m\u001b[0;34m\u001b[0m\u001b[0;34m\u001b[0m\u001b[0m\n\u001b[0m\u001b[1;32m      3\u001b[0m \u001b[0mlogging\u001b[0m\u001b[0;34m.\u001b[0m\u001b[0minfo\u001b[0m\u001b[0;34m(\u001b[0m\u001b[0;34m\"Info message\"\u001b[0m\u001b[0;34m)\u001b[0m\u001b[0;34m\u001b[0m\u001b[0;34m\u001b[0m\u001b[0m\n\u001b[1;32m      4\u001b[0m \u001b[0mlogging\u001b[0m\u001b[0;34m.\u001b[0m\u001b[0mwarning\u001b[0m\u001b[0;34m(\u001b[0m\u001b[0;34m\"Warning message\"\u001b[0m\u001b[0;34m)\u001b[0m\u001b[0;34m\u001b[0m\u001b[0;34m\u001b[0m\u001b[0m\n\u001b[1;32m      5\u001b[0m \u001b[0mlogging\u001b[0m\u001b[0;34m.\u001b[0m\u001b[0merror\u001b[0m\u001b[0;34m(\u001b[0m\u001b[0;34m\"Error message\"\u001b[0m\u001b[0;34m)\u001b[0m\u001b[0;34m\u001b[0m\u001b[0;34m\u001b[0m\u001b[0m\n",
            "\u001b[0;31mAttributeError\u001b[0m: module 'logging' has no attribute 'basicconfig'"
          ]
        }
      ]
    },
    {
      "cell_type": "markdown",
      "source": [
        "8. write a rogram to handle a file opening error using exception handling.     \n",
        ": in the code section."
      ],
      "metadata": {
        "id": "nwQT41CawjHl"
      }
    },
    {
      "cell_type": "code",
      "source": [
        "try:\n",
        "    with open('nonexistent.txt', 'r') as f:\n",
        "        content = f.read()\n",
        "except FileNotFoundError:\n",
        "    print(\"File opening error: File not found.\")"
      ],
      "metadata": {
        "colab": {
          "base_uri": "https://localhost:8080/"
        },
        "id": "iUe7QD1Fw4HC",
        "outputId": "8b53f56f-4701-4eff-e7b6-16e2cb5495fd"
      },
      "execution_count": 17,
      "outputs": [
        {
          "output_type": "stream",
          "name": "stdout",
          "text": [
            "File opening error: File not found.\n"
          ]
        }
      ]
    },
    {
      "cell_type": "markdown",
      "source": [
        "9. how can you read a file line by line and store its content in a list in python.     \n",
        ": in the code section."
      ],
      "metadata": {
        "id": "b-4pgcdyxrbK"
      }
    },
    {
      "cell_type": "code",
      "source": [
        "lines = []\n",
        "try:\n",
        "    with open('file.txt', 'r') as f:\n",
        "        lines = f.readlines()\n",
        "except FileNotFoundError:\n",
        "    print(\"the file 'file.txt' was not found in the current directory.\")"
      ],
      "metadata": {
        "colab": {
          "base_uri": "https://localhost:8080/"
        },
        "id": "9T2NfN-5yAwF",
        "outputId": "ffdece4a-3077-4835-b3ca-e63cb81253b4"
      },
      "execution_count": 20,
      "outputs": [
        {
          "output_type": "stream",
          "name": "stdout",
          "text": [
            "the file 'file.txt' was not found in the current directory.\n"
          ]
        }
      ]
    },
    {
      "cell_type": "markdown",
      "source": [
        "10. how can you append data to an existing file in python?     \n",
        ": in the code section."
      ],
      "metadata": {
        "id": "8EKQPGu6znPj"
      }
    },
    {
      "cell_type": "code",
      "source": [
        "with open('file.txt', 'a') as f:\n",
        "    f.write('New line/n')"
      ],
      "metadata": {
        "id": "ii1gP7-wi9Dj"
      },
      "execution_count": 2,
      "outputs": []
    },
    {
      "cell_type": "markdown",
      "source": [
        "11. write a python program that uses a try-except block to handle an error when attempting to access a dictionary key that doesn't exist.     \n",
        ": in the code section."
      ],
      "metadata": {
        "id": "QOGY5qbujq19"
      }
    },
    {
      "cell_type": "code",
      "source": [
        "try:\n",
        "    d = {'a': 1}\n",
        "    value = d['b']\n",
        "except KeyError:\n",
        "    print(\"Key does not exist in the dictionary.\")"
      ],
      "metadata": {
        "colab": {
          "base_uri": "https://localhost:8080/"
        },
        "id": "BjXwjeDYkIb0",
        "outputId": "812e50ff-2643-4627-e960-f40f3db007a6"
      },
      "execution_count": 4,
      "outputs": [
        {
          "output_type": "stream",
          "name": "stdout",
          "text": [
            "Key does not exist in the dictionary.\n"
          ]
        }
      ]
    },
    {
      "cell_type": "markdown",
      "source": [
        "12. write a program that demonstrates using multiple except blocks to handle different types of exceptions.    \n",
        ": in the code section."
      ],
      "metadata": {
        "id": "eJ5HGpCMk8zP"
      }
    },
    {
      "cell_type": "code",
      "source": [
        "try:\n",
        "    num = int(input(\"Enter a number: \"))\n",
        "    result = 10 / num\n",
        "except ValueError:\n",
        "    print(\"Invalid input.\")\n",
        "except ZeroDivisionError:\n",
        "    print(\"Cannot divide by zero.\")"
      ],
      "metadata": {
        "colab": {
          "base_uri": "https://localhost:8080/"
        },
        "id": "8w9mZDz6lT0m",
        "outputId": "955e75bd-6860-46f2-f9d2-6161be4d2d23"
      },
      "execution_count": 5,
      "outputs": [
        {
          "name": "stdout",
          "output_type": "stream",
          "text": [
            "Enter a number: 10\n"
          ]
        }
      ]
    },
    {
      "cell_type": "markdown",
      "source": [
        "13. how would you check if a file exists before attempting to read it in python? Use os.path.exists:       \n",
        ": in the code section."
      ],
      "metadata": {
        "id": "_3mkmgDTmAWG"
      }
    },
    {
      "cell_type": "code",
      "source": [
        "import os\n",
        "if os.path.exists('file.txt'):\n",
        "    with open('file.txt', 'r') as f:\n",
        "        content = f.read()\n",
        "else:\n",
        "    print(\"File does not exist.\")"
      ],
      "metadata": {
        "id": "fqCkZaqOmXWX"
      },
      "execution_count": 6,
      "outputs": []
    },
    {
      "cell_type": "markdown",
      "source": [
        "14. write a program that uses the logging module to log both information and error messages.     \n",
        ": in the code section."
      ],
      "metadata": {
        "id": "-vGuQeHLmz3U"
      }
    },
    {
      "cell_type": "code",
      "source": [
        "import logging\n",
        "logging.basicConfig(level=logging.INFO)\n",
        "logging.info(\"program started.\")\n",
        "try:\n",
        "    result = 10 / 0\n",
        "except ZeroDivisionError:\n",
        "    logging.error(\"division by zero error.\")"
      ],
      "metadata": {
        "colab": {
          "base_uri": "https://localhost:8080/"
        },
        "id": "TsdDTM4MnSlV",
        "outputId": "4c1c8887-36a8-4d04-f171-5b54f36834d9"
      },
      "execution_count": 7,
      "outputs": [
        {
          "output_type": "stream",
          "name": "stderr",
          "text": [
            "ERROR:root:division by zero error.\n"
          ]
        }
      ]
    },
    {
      "cell_type": "markdown",
      "source": [
        "15. write a python program that prints the content of a file and handles the case when the file is empty.     \n",
        ": in the code section."
      ],
      "metadata": {
        "id": "4wFp2zbjoI1c"
      }
    },
    {
      "cell_type": "code",
      "source": [
        "with open('file.txt', 'r') as f:\n",
        "    content = f.read()\n",
        "if not content:\n",
        "    print(\"File is empty.\")\n",
        "else:\n",
        "    print(content)"
      ],
      "metadata": {
        "colab": {
          "base_uri": "https://localhost:8080/"
        },
        "id": "a0DX-YNUoozB",
        "outputId": "e6ebffd2-a2f9-41ca-8807-a3d8d9c75e22"
      },
      "execution_count": 8,
      "outputs": [
        {
          "output_type": "stream",
          "name": "stdout",
          "text": [
            "New line/n\n"
          ]
        }
      ]
    },
    {
      "cell_type": "markdown",
      "source": [
        "16. demonstrate how to use memory profiling to check the memory usage of a small program. Use memory_profiler:     \n",
        ": in the code section."
      ],
      "metadata": {
        "id": "rpYND0vHpG8C"
      }
    },
    {
      "source": [
        "!pip install memory_profiler"
      ],
      "cell_type": "code",
      "metadata": {
        "colab": {
          "base_uri": "https://localhost:8080/"
        },
        "id": "vUzEy39fr5N2",
        "outputId": "f1e34a04-5473-401e-9344-431ffbb2ba92"
      },
      "execution_count": 14,
      "outputs": [
        {
          "output_type": "stream",
          "name": "stdout",
          "text": [
            "Collecting memory_profiler\n",
            "  Downloading memory_profiler-0.61.0-py3-none-any.whl.metadata (20 kB)\n",
            "Requirement already satisfied: psutil in /usr/local/lib/python3.11/dist-packages (from memory_profiler) (5.9.5)\n",
            "Downloading memory_profiler-0.61.0-py3-none-any.whl (31 kB)\n",
            "Installing collected packages: memory_profiler\n",
            "Successfully installed memory_profiler-0.61.0\n"
          ]
        }
      ]
    },
    {
      "source": [
        "from memory_profiler import profile\n",
        "@profile\n",
        "def my_func():\n",
        "    a = [i for i in range(100000)]\n",
        "my_func()"
      ],
      "cell_type": "code",
      "metadata": {
        "colab": {
          "base_uri": "https://localhost:8080/"
        },
        "id": "t_ikVPFLr510",
        "outputId": "526df6fa-0434-47a4-be5d-965ee9e62c20"
      },
      "execution_count": 18,
      "outputs": [
        {
          "output_type": "stream",
          "name": "stdout",
          "text": [
            "ERROR: Could not find file <ipython-input-18-6cd0ffdd48fb>\n",
            "NOTE: %mprun can only be used on functions defined in physical files, and not in the IPython environment.\n"
          ]
        }
      ]
    },
    {
      "cell_type": "markdown",
      "source": [
        "17. write a python program to create and write a list of numbers to a file, one number per line.     \n",
        ": in the code section."
      ],
      "metadata": {
        "id": "STWZFnpiscG_"
      }
    },
    {
      "cell_type": "code",
      "source": [
        "numbers = [1, 2, 3, 4, 5]\n",
        "with open('numbers.txt', 'w') as f:\n",
        "    for num in numbers:\n",
        "        f.write(str(num) + '\\n')"
      ],
      "metadata": {
        "id": "NMZx3ihCsvhU"
      },
      "execution_count": 19,
      "outputs": []
    },
    {
      "cell_type": "markdown",
      "source": [
        "18. how would you implement a basic logging setup that logs to a file with rotation after 1MB?Use RotatingFileHandler:     \n",
        ": in the code section."
      ],
      "metadata": {
        "id": "SnUnKkpts3ol"
      }
    },
    {
      "cell_type": "code",
      "source": [
        "import logging\n",
        "from logging.handlers import RotatingFileHandler\n",
        "handler = RotatingFileHandler('app.log', maxBytes=1024*1024, backupCount=5)\n",
        "logging.basicConfig(handlers=[handler], level=logging.INFO)\n",
        "logging.info(\"log message\")"
      ],
      "metadata": {
        "id": "u7JsuCjmtpoH"
      },
      "execution_count": 21,
      "outputs": []
    },
    {
      "cell_type": "markdown",
      "source": [
        "19. write a python that handles both IndexError and KeyError using a try-except block.      \n",
        ": in the code section."
      ],
      "metadata": {
        "id": "cmVdIY9CunCI"
      }
    },
    {
      "cell_type": "code",
      "source": [
        "try:\n",
        "    lst = [1, 2, 3]\n",
        "    d = {'a': 1}\n",
        "    print(lst[5])\n",
        "    print(d['b'])\n",
        "except (IndexError, KeyError) as e:\n",
        "    print(f\"Error: {e}\")"
      ],
      "metadata": {
        "colab": {
          "base_uri": "https://localhost:8080/"
        },
        "id": "pRXrgsx4xYOc",
        "outputId": "35ac23c3-3ea0-4699-820b-d81a091703de"
      },
      "execution_count": 23,
      "outputs": [
        {
          "output_type": "stream",
          "name": "stdout",
          "text": [
            "Error: list index out of range\n"
          ]
        }
      ]
    },
    {
      "cell_type": "markdown",
      "source": [
        "20. how would you open a file and read its contents using a context manager in python?     \n",
        ": in the code section."
      ],
      "metadata": {
        "id": "XyqQA9NXyNeT"
      }
    },
    {
      "cell_type": "code",
      "source": [
        "with open('file.txt', 'r') as f:\n",
        "    context = f.read()\n",
        "    print(context)"
      ],
      "metadata": {
        "colab": {
          "base_uri": "https://localhost:8080/"
        },
        "id": "U6PQpe86yoEm",
        "outputId": "8c7ff3cc-05e1-4058-ea98-345c928d9896"
      },
      "execution_count": 24,
      "outputs": [
        {
          "output_type": "stream",
          "name": "stdout",
          "text": [
            "New line/n\n"
          ]
        }
      ]
    },
    {
      "cell_type": "markdown",
      "source": [
        "21. write a python program that reads a file and prints the number of occurrences of a specific word.     \n",
        ": in the code section."
      ],
      "metadata": {
        "id": "9kUeUGNdy6w_"
      }
    },
    {
      "cell_type": "code",
      "source": [
        "word = input(\"Enter the word to count: \")\n",
        "count = 0\n",
        "with open('file.txt', 'r') as f:\n",
        "    for line in f:\n",
        "        count += line.lower().split().count(word.lower())\n",
        "print(f\"{word} appears {count} times.\")"
      ],
      "metadata": {
        "colab": {
          "base_uri": "https://localhost:8080/"
        },
        "id": "gfqkWyEmzQ47",
        "outputId": "b8749322-99c1-4400-fdf2-0096856b572f"
      },
      "execution_count": 25,
      "outputs": [
        {
          "output_type": "stream",
          "name": "stdout",
          "text": [
            "Enter the word to count: 0\n",
            "0 appears 0 times.\n"
          ]
        }
      ]
    },
    {
      "cell_type": "markdown",
      "source": [
        "22. how can you check if a file is empty before attempting to read its contexts? Use os.path.getsize:       \n",
        ": in the code section."
      ],
      "metadata": {
        "id": "f_CdUvSd0Rwp"
      }
    },
    {
      "cell_type": "code",
      "source": [
        "import os\n",
        "if os.path.getsize('file.txt') == 0:\n",
        "    print(\"File is empty.\")\n",
        "else:\n",
        "    with open('file.txt', 'r') as f:\n",
        "        context = f.read()\n",
        "        print(context)"
      ],
      "metadata": {
        "colab": {
          "base_uri": "https://localhost:8080/"
        },
        "id": "5irXE-Se0mQT",
        "outputId": "26f4eff1-4239-44cc-c40a-cb4ebf706ca6"
      },
      "execution_count": 26,
      "outputs": [
        {
          "output_type": "stream",
          "name": "stdout",
          "text": [
            "New line/n\n"
          ]
        }
      ]
    },
    {
      "cell_type": "markdown",
      "source": [
        "23. write a python program that writes to a log file when an error occurs during file handling.      \n",
        ": in the code section."
      ],
      "metadata": {
        "id": "A1H9Kzjl08F6"
      }
    },
    {
      "cell_type": "code",
      "source": [
        "import logging\n",
        "logging.basicConfig(filename='error.log', level=logging.ERROR)\n",
        "try:\n",
        "    with open('nonexistent.txt', 'r') as f:\n",
        "        content = f.read()\n",
        "except FileNotFoundError:\n",
        "    logging.error(\"File not found.\")"
      ],
      "metadata": {
        "colab": {
          "base_uri": "https://localhost:8080/"
        },
        "id": "pZd1Iumv1MWa",
        "outputId": "47562566-3ebf-4a67-f5b6-fc3410079621"
      },
      "execution_count": 27,
      "outputs": [
        {
          "output_type": "stream",
          "name": "stderr",
          "text": [
            "ERROR:root:File not found.\n"
          ]
        }
      ]
    }
  ]
}